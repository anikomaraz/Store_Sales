{
 "cells": [
  {
   "cell_type": "markdown",
   "id": "cd6e853e-5728-4510-acb9-a69e40ddcafc",
   "metadata": {},
   "source": [
    "# Store Sales Kaggle Challenge\n",
    "## EXPLORE DATA"
   ]
  },
  {
   "cell_type": "markdown",
   "id": "bdcea660-4a17-478c-b76d-3ce92c024cdd",
   "metadata": {},
   "source": [
    "See [competition for kudos](https://www.kaggle.com/competitions/store-sales-time-series-forecasting/data)"
   ]
  },
  {
   "cell_type": "markdown",
   "id": "bde18cbb-1058-4150-9f7f-17868ae2c59c",
   "metadata": {},
   "source": [
    "See [tutorial](https://www.kaggle.com/learn/time-series)"
   ]
  },
  {
   "cell_type": "markdown",
   "id": "ca6cb6f5-c41a-4302-af90-70eb4a3965c4",
   "metadata": {},
   "source": [
    "## Import packages"
   ]
  },
  {
   "cell_type": "code",
   "execution_count": 2,
   "id": "7efc6156-97e2-4f08-8b2b-a25ec518c34b",
   "metadata": {},
   "outputs": [],
   "source": [
    "import pandas as pd"
   ]
  },
  {
   "cell_type": "markdown",
   "id": "dd1d8e25-bb06-4fac-8dc6-748841c4ce50",
   "metadata": {},
   "source": [
    "## Import data"
   ]
  },
  {
   "cell_type": "code",
   "execution_count": 9,
   "id": "7e0e6b76-bbcc-47c7-b5b7-079d36453dd2",
   "metadata": {},
   "outputs": [],
   "source": [
    "holidays_events = pd.read_csv('../data/holidays_events.csv')\n",
    "oil = pd.read_csv('../data/oil.csv')\n",
    "sample_sumission = pd.read_csv('../data/sample_submission.csv')\n",
    "stores = pd.read_csv('../data/stores.csv')\n",
    "test = pd.read_csv('../data/test.csv')\n",
    "train = pd.read_csv('../data/train.csv')\n",
    "transactions = pd.read_csv('../data/transactions.csv')"
   ]
  },
  {
   "cell_type": "code",
   "execution_count": null,
   "id": "9061f62c-b22f-40fd-a64b-e3fabc20177b",
   "metadata": {},
   "outputs": [],
   "source": []
  },
  {
   "cell_type": "code",
   "execution_count": null,
   "id": "0d83e5be-9ba2-4320-8b93-8397a9c64418",
   "metadata": {},
   "outputs": [],
   "source": []
  },
  {
   "cell_type": "code",
   "execution_count": null,
   "id": "340ee6aa-1113-4733-a9ec-39c571e139d5",
   "metadata": {},
   "outputs": [],
   "source": []
  }
 ],
 "metadata": {
  "kernelspec": {
   "display_name": "Python 3 (ipykernel)",
   "language": "python",
   "name": "python3"
  },
  "language_info": {
   "codemirror_mode": {
    "name": "ipython",
    "version": 3
   },
   "file_extension": ".py",
   "mimetype": "text/x-python",
   "name": "python",
   "nbconvert_exporter": "python",
   "pygments_lexer": "ipython3",
   "version": "3.10.12"
  }
 },
 "nbformat": 4,
 "nbformat_minor": 5
}
